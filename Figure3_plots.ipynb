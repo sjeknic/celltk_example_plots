{
 "cells": [
  {
   "cell_type": "code",
   "execution_count": null,
   "id": "073c3b1f",
   "metadata": {},
   "outputs": [],
   "source": [
    "import celltk\n",
    "import numpy as np\n",
    "import plotly.graph_objects as go\n",
    "from collections import Counter\n",
    "\n",
    "ph = celltk.PlotHelper()"
   ]
  },
  {
   "cell_type": "code",
   "execution_count": null,
   "id": "e4f661c7",
   "metadata": {},
   "outputs": [],
   "source": [
    "arr = celltk.ExperimentArray.load('example.hdf5')"
   ]
  },
  {
   "cell_type": "markdown",
   "id": "d4a1323a",
   "metadata": {},
   "source": [
    "## Distribution of cells per condition"
   ]
  },
  {
   "cell_type": "code",
   "execution_count": null,
   "id": "fd5ca7bb",
   "metadata": {},
   "outputs": [],
   "source": [
    "cells = np.array([a[3] for a in arr.shape]).ravel()\n",
    "fig = ph.histogram_plot(cells, nbins=5, colors=['dimgray'],\n",
    "                        x_label='Number of cells', y_label='Number of conditions',\n",
    "                        legend=False)\n",
    "fig.show()"
   ]
  },
  {
   "cell_type": "markdown",
   "id": "08a2be5f",
   "metadata": {},
   "source": [
    "## Density of cells at each location in initial frame"
   ]
  },
  {
   "cell_type": "code",
   "execution_count": null,
   "id": "578a3882",
   "metadata": {},
   "outputs": [],
   "source": [
    "fig = celltk.PlotHelper().heatmap2d_plot(np.concatenate(arr['nuc', 'fitc', 'x', :, 0]).ravel(),\n",
    "                                         np.concatenate(arr['nuc', 'fitc', 'y', :, 0]).ravel(),\n",
    "                                         xbinsize=20, ybinsize=20, colorscale='Greys',\n",
    "                                         x_label='X position', y_label='Y position')\n",
    "fig.show()"
   ]
  },
  {
   "cell_type": "markdown",
   "id": "f04461c6",
   "metadata": {},
   "source": [
    "## Distribution of nuclear areas for whole experiment"
   ]
  },
  {
   "cell_type": "code",
   "execution_count": null,
   "id": "f6e57fd4",
   "metadata": {},
   "outputs": [],
   "source": [
    "fig = celltk.PlotHelper().histogram_plot(arr['nuc', 'tritc', 'area', :, 0], \n",
    "                                         include_kde=True, include_histogram=False,\n",
    "                                         keys=arr.conditions, histnorm='probability density')\n",
    "fig.show()"
   ]
  },
  {
   "cell_type": "markdown",
   "id": "2f13e4d5",
   "metadata": {},
   "source": [
    "## Mean nuclear marker intensity in initial frame by location in field of view"
   ]
  },
  {
   "cell_type": "code",
   "execution_count": null,
   "id": "4e216c32",
   "metadata": {},
   "outputs": [],
   "source": [
    "def illumination_bias(xarr, yarr, iarr):\n",
    "    # Remove nans\n",
    "    nan_mask = np.logical_or(np.isnan(xarr), np.isnan(yarr))\n",
    "    xarr = xarr[~nan_mask]\n",
    "    yarr = yarr[~nan_mask]\n",
    "    iarr = iarr[~nan_mask]\n",
    "    \n",
    "    # Discretize data\n",
    "    xbins = np.histogram_bin_edges(np.arange(xarr.max()), bins=39)\n",
    "    ybins = np.histogram_bin_edges(np.arange(yarr.max()), bins=39)\n",
    "    xdig = np.digitize(xarr, bins=xbins, right=True)\n",
    "    ydig = np.digitize(yarr, bins=ybins, right=True)\n",
    "    zdim = Counter(zip(xdig,ydig)).most_common()[0][1]\n",
    "    \n",
    "    # Make destination array\n",
    "    temp = np.empty((40, 40, zdim))\n",
    "    temp[:] = np.nan\n",
    "\n",
    "    # Transfer data\n",
    "    for x, y, val in zip(xdig, ydig, iarr):\n",
    "        x -= 1\n",
    "        y -= 1\n",
    "        z = np.argmax(np.isnan(temp[x, y, :]))\n",
    "        temp[x, y, z] = val\n",
    "        \n",
    "    return temp\n",
    "\n",
    "# Collect data\n",
    "x, y, i = zip(*arr['nuc', 'tritc', ('x', 'y', 'median_intensity'), :, 0])\n",
    "illum = illumination_bias(np.concatenate(x), np.concatenate(y), np.concatenate(i))\n",
    "\n",
    "fig = celltk.PlotHelper().heatmap_plot(np.nanmean(illum, axis=-1), \n",
    "                                       zmin=1000, zmax=3000, colorscale='Greys')\n",
    "fig.show()\n",
    "\n"
   ]
  },
  {
   "cell_type": "markdown",
   "id": "704c8cb1",
   "metadata": {},
   "source": [
    "## Distributions of mean distance travelled per frame"
   ]
  },
  {
   "cell_type": "code",
   "execution_count": null,
   "id": "0535882e",
   "metadata": {},
   "outputs": [],
   "source": [
    "def distance_traveled(arr):\n",
    "    return [np.sqrt(np.sum(np.diff(a, axis=-1) ** 2, axis=0)) for a in arr]\n",
    "\n",
    "conds = [c for c in arr.conditions if 'il6' not in c and 'torin' not in c]\n",
    "diff = distance_traveled(arr[conds]['nuc', 'fitc', ('x', 'y')])\n",
    "fig = celltk.PlotHelper().histogram_plot([np.nanmean(d, axis=1) for d in diff], \n",
    "                                         include_histogram=False, include_kde=True, \n",
    "                                         keys=conds, histnorm='probability density',\n",
    "                                         colors=['dimgray'], alpha=0.5)\n",
    "\n",
    "\n",
    "conds = [c for c in arr.conditions if 'il6' in c and 'torin' not in c]\n",
    "diff = distance_traveled(arr[conds]['nuc', 'fitc', ('x', 'y')])\n",
    "fig = celltk.PlotHelper().histogram_plot([np.nanmean(d, axis=1) for d in diff], \n",
    "                                         include_histogram=False, include_kde=True, \n",
    "                                         keys=conds, histnorm='probability density',\n",
    "                                         colors=['magenta'], figure=fig)\n",
    "fig.show()\n"
   ]
  },
  {
   "cell_type": "markdown",
   "id": "63845743",
   "metadata": {},
   "source": [
    "## HIF-1$\\alpha$ activtion in control and mTOR-inhibited cells"
   ]
  },
  {
   "cell_type": "code",
   "execution_count": null,
   "id": "895bbbbf",
   "metadata": {},
   "outputs": [],
   "source": [
    "fig = go.Figure().set_subplots(1, 2, shared_yaxes=False, horizontal_spacing=0.05,\n",
    "                               x_title='Time (hours)', y_title='Cells', \n",
    "                               subplot_titles=['Control', 'Torin1'])\n",
    "\n",
    "fig = ph.heatmap_plot(arr['ifny_control']['nuc', 'fitc', 'median_intensity'], row=1, col=1,\n",
    "                      figure=fig, zmin=1000, zmax=3000, colorscale='Greys', x_limit=[0, 60],\n",
    "                      sort='cosine')\n",
    "fig.update_xaxes(tickmode='array', tickvals=[0, 24, 48], ticktext=['0', '4', '8',], row=1, col=1)\n",
    "fig.update_yaxes(ticks='', showticklabels=False, row=1, col=1)\n",
    "fig = ph.heatmap_plot(arr['ifny_torin']['nuc', 'fitc', 'median_intensity'], row=1, col=2,\n",
    "                      figure=fig, zmin=1000, zmax=3000, colorscale='Greys', x_limit=[0, 60],\n",
    "                      sort='cosine')\n",
    "fig.update_xaxes(tickmode='array', tickvals=[0, 24, 48], ticktext=['0', '4', '8',], row=1, col=2)\n",
    "fig.update_yaxes(ticks='', showticklabels=False, row=1, col=2)"
   ]
  }
 ],
 "metadata": {
  "kernelspec": {
   "display_name": "Python 3 (ipykernel)",
   "language": "python",
   "name": "python3"
  },
  "language_info": {
   "codemirror_mode": {
    "name": "ipython",
    "version": 3
   },
   "file_extension": ".py",
   "mimetype": "text/x-python",
   "name": "python",
   "nbconvert_exporter": "python",
   "pygments_lexer": "ipython3",
   "version": "3.9.9"
  }
 },
 "nbformat": 4,
 "nbformat_minor": 5
}
